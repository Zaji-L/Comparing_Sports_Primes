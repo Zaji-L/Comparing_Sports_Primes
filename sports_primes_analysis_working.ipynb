{
 "cells": [
  {
   "cell_type": "markdown",
   "metadata": {},
   "source": "# Comparing Sports Primes: Analysis of Peak Performance Across Major American Sports\n\nThis notebook analyzes the \"prime\" years of athletes across the four major American sports: MLB, NFL, NBA, and NHL.\n\n## Project Overview\n\nWe'll examine when athletes reach their peak performance by analyzing historical data from players who started their careers around 2000 and ended around 2015 (year range is just a test range for now)\n\n## Defining \"Prime\"\n\nThe period of time in a sports player's career when they play their best, statistically.\n\n**Note:** There will be outliers with Hall of Famers and players who play longer than average. The average player in all major sports has a significantly shorter career than the average starting lineup player."
  },
  {
   "cell_type": "markdown",
   "metadata": {},
   "source": [
    "## Setup and Imports"
   ]
  },
  {
   "cell_type": "code",
   "execution_count": null,
   "metadata": {},
   "outputs": [],
   "source": "import pandas as pd\nimport numpy as np\nimport matplotlib.pyplot as plt\nimport seaborn as sns\nimport warnings\nwarnings.filterwarnings('ignore')\n\n# Set up plotting style\nplt.style.use('seaborn-v0_8')\nsns.set_palette(\"husl\")\nplt.rcParams['figure.figsize'] = (12, 8)\n\nprint(\"Libraries imported successfully!\")"
  },
  {
   "cell_type": "markdown",
   "metadata": {},
   "source": "## MLB Analysis: Hits per At-Bat vs Career Year\n\nWe'll analyze MLB batting performance using the Lahman Baseball Database (Batting.csv). \n\nOur approach:\n1. Load historical batting data from Batting.csv\n2. Identify players with exactly 15-year careers\n3. Filter for regular players (avg >= 100 at-bats per season)\n4. Analyze hits per at-bat by career year (Year 1 through Year 15)\n5. Identify when players typically reach their prime performance"
  },
  {
   "cell_type": "code",
   "execution_count": null,
   "metadata": {},
   "outputs": [],
   "source": "# Load Batting.csv data\nprint(\"Loading Batting.csv...\")\nbatting = pd.read_csv('Batting.csv')\n\nprint(f\"Dataset loaded: {batting.shape[0]:,} rows, {batting.shape[1]} columns\")\nprint(f\"Year range: {batting['yearID'].min()} - {batting['yearID'].max()}\")\nprint(\"\\nFirst few rows:\")\nbatting.head()"
  },
  {
   "cell_type": "code",
   "execution_count": null,
   "metadata": {},
   "outputs": [],
   "source": "# Find players with exactly 15-year careers\nprint(\"Identifying players with 15-year careers...\")\n\n# Count number of seasons for each player\ncareer_lengths = batting.groupby('playerID')['yearID'].nunique()\n\n# Get players with exactly 15 years\nplayers_15_years = career_lengths[career_lengths == 15].index.tolist()\nprint(f\"Found {len(players_15_years)} players with exactly 15-year careers\")\n\n# Aggregate stats by player-year (some players played for multiple teams in a season)\nbatting_15 = batting[batting['playerID'].isin(players_15_years)].copy()\nbatting_15_agg = batting_15.groupby(['playerID', 'yearID']).agg({\n    'G': 'sum',\n    'AB': 'sum',\n    'H': 'sum',\n    'R': 'sum',\n    'HR': 'sum',\n    'RBI': 'sum'\n}).reset_index()\n\n# Filter for regular players (at least 100 AB per season on average)\nplayer_avg_ab = batting_15_agg.groupby('playerID')['AB'].mean()\nregular_players = player_avg_ab[player_avg_ab >= 100].index.tolist()\n\nprint(f\"Found {len(regular_players)} regular players (avg >= 100 AB/season) with 15-year careers\")\n\n# Filter to regular players only\nbatting_regular = batting_15_agg[batting_15_agg['playerID'].isin(regular_players)].copy()\n\n# Verify all have exactly 15 seasons\nplayer_season_counts = batting_regular.groupby('playerID').size()\nprint(f\"All players have exactly 15 seasons: {(player_season_counts == 15).all()}\")\nprint(f\"\\nTotal player-seasons in analysis: {len(batting_regular)}\")\nprint(f\"Number of players: {batting_regular['playerID'].nunique()}\")"
  },
  {
   "cell_type": "code",
   "metadata": {},
   "source": "# Calculate career year (1-15) and performance metrics\nprint(\"Calculating career year and performance metrics...\")\n\n# Sort by player and year, then add career year counter\nbatting_regular = batting_regular.sort_values(['playerID', 'yearID'])\nbatting_regular['career_year'] = batting_regular.groupby('playerID').cumcount() + 1\n\n# Calculate hits per at-bat\nbatting_regular['hits_per_ab'] = batting_regular['H'] / batting_regular['AB']\n\n# Remove any rows with 0 at-bats (edge case)\nbatting_regular = batting_regular[batting_regular['AB'] > 0]\n\nprint(f\"Final dataset: {len(batting_regular)} player-seasons\")\nprint(\"\\nSample data:\")\nprint(batting_regular[['playerID', 'yearID', 'career_year', 'AB', 'H', 'hits_per_ab']].head(15))\n\n# Calculate statistics by career year\nprint(\"\\n\" + \"=\"*60)\nprint(\"Average Performance by Career Year\")\nprint(\"=\"*60)\navg_by_career_year = batting_regular.groupby('career_year')['hits_per_ab'].agg(['mean', 'std', 'count'])\nprint(avg_by_career_year)\n\n# Identify peak performance\npeak_year = avg_by_career_year['mean'].idxmax()\npeak_value = avg_by_career_year['mean'].max()\nprint(f\"\\n*** Peak Performance: Career Year {peak_year} (Hits/AB: {peak_value:.4f}) ***\")"
  },
  {
   "cell_type": "code",
   "execution_count": null,
   "metadata": {},
   "outputs": [],
   "source": "# Create comprehensive visualizations\nprint(\"Creating visualizations...\")\n\nfig = plt.figure(figsize=(16, 12))\n\n# Calculate average stats for plotting\navg_by_year = batting_regular.groupby('career_year')['hits_per_ab'].agg(['mean', 'std'])\npeak_year = avg_by_year['mean'].idxmax()\n\n# Plot 1: Average hits per AB by career year with error bars\nax1 = plt.subplot(2, 2, 1)\nax1.errorbar(avg_by_year.index, avg_by_year['mean'], yerr=avg_by_year['std'], \n             marker='o', capsize=5, capthick=2, linewidth=2, markersize=8, color='steelblue')\nax1.set_xlabel('Career Year', fontsize=12, fontweight='bold')\nax1.set_ylabel('Hits per At-Bat', fontsize=12, fontweight='bold')\nax1.set_title('Average Performance by Career Year\\n(165 players with 15-year careers)', \n              fontsize=14, fontweight='bold')\nax1.grid(True, alpha=0.3)\nax1.set_xticks(range(1, 16))\nax1.axvline(peak_year, color='red', linestyle='--', alpha=0.5, linewidth=2, \n            label=f'Peak: Year {peak_year}')\nax1.legend(fontsize=10)\n\n# Plot 2: Individual player trajectories (sample of 20 players)\nax2 = plt.subplot(2, 2, 2)\nsample_players = batting_regular['playerID'].unique()[:20]\nfor player in sample_players:\n    player_data = batting_regular[batting_regular['playerID'] == player]\n    ax2.plot(player_data['career_year'], player_data['hits_per_ab'], \n             alpha=0.4, linewidth=1)\n\n# Add average line on top\navg_line = batting_regular.groupby('career_year')['hits_per_ab'].mean()\nax2.plot(avg_line.index, avg_line.values, color='red', linewidth=3, \n         label='Average', marker='o', markersize=6)\nax2.set_xlabel('Career Year', fontsize=12, fontweight='bold')\nax2.set_ylabel('Hits per At-Bat', fontsize=12, fontweight='bold')\nax2.set_title('Individual Player Trajectories (Sample of 20)', \n              fontsize=14, fontweight='bold')\nax2.grid(True, alpha=0.3)\nax2.legend(fontsize=10)\nax2.set_xticks(range(1, 16))\n\n# Plot 3: Box plot by career year\nax3 = plt.subplot(2, 2, 3)\nbatting_regular.boxplot(column='hits_per_ab', by='career_year', ax=ax3)\nax3.set_xlabel('Career Year', fontsize=12, fontweight='bold')\nax3.set_ylabel('Hits per At-Bat', fontsize=12, fontweight='bold')\nax3.set_title('Performance Distribution by Career Year', fontsize=14, fontweight='bold')\nplt.suptitle('')  # Remove automatic title\n\n# Plot 4: Violin plot for better distribution visualization\nax4 = plt.subplot(2, 2, 4)\nsns.violinplot(data=batting_regular, x='career_year', y='hits_per_ab', ax=ax4, \n               inner='quartile', color='steelblue')\nax4.set_xlabel('Career Year', fontsize=12, fontweight='bold')\nax4.set_ylabel('Hits per At-Bat', fontsize=12, fontweight='bold')\nax4.set_title('Performance Distribution (Violin Plot)', fontsize=14, fontweight='bold')\nax4.tick_params(axis='x', rotation=0)\n\nplt.tight_layout()\nplt.show()\n\nprint(\"\\nVisualizations complete!\")"
  },
  {
   "cell_type": "code",
   "execution_count": null,
   "metadata": {},
   "outputs": [],
   "source": "# Statistical Analysis and Summary\nprint(\"=\"*70)\nprint(\"MLB 15-YEAR CAREER ANALYSIS - STATISTICAL SUMMARY\")\nprint(\"=\"*70)\n\n# Overall statistics\nprint(f\"\\nDataset Overview:\")\nprint(f\"  Total players analyzed: {batting_regular['playerID'].nunique()}\")\nprint(f\"  Total player-seasons: {len(batting_regular)}\")\nprint(f\"  Years covered: {batting_regular['yearID'].min()} - {batting_regular['yearID'].max()}\")\n\n# Peak performance\navg_by_career_year = batting_regular.groupby('career_year')['hits_per_ab'].mean()\npeak_year = avg_by_career_year.idxmax()\npeak_value = avg_by_career_year.max()\n\nprint(f\"\\nPeak Performance:\")\nprint(f\"  Career Year: {peak_year}\")\nprint(f\"  Hits per AB: {peak_value:.4f} ({peak_value*100:.2f}%)\")\n\n# Performance by career stage\nearly_career = batting_regular[batting_regular['career_year'] <= 3]['hits_per_ab'].mean()\nprime_years = batting_regular[(batting_regular['career_year'] >= 4) & \n                               (batting_regular['career_year'] <= 10)]['hits_per_ab'].mean()\nlate_career = batting_regular[batting_regular['career_year'] >= 11]['hits_per_ab'].mean()\n\nprint(f\"\\nPerformance by Career Stage:\")\nprint(f\"  Early Career (Years 1-3):  {early_career:.4f} ({early_career*100:.2f}%)\")\nprint(f\"  Prime Years (Years 4-10):  {prime_years:.4f} ({prime_years*100:.2f}%)\")\nprint(f\"  Late Career (Years 11-15): {late_career:.4f} ({late_career*100:.2f}%)\")\n\n# Performance changes\nimprovement_early_to_prime = ((prime_years - early_career) / early_career) * 100\ndecline_prime_to_late = ((late_career - prime_years) / prime_years) * 100\n\nprint(f\"\\nPerformance Changes:\")\nprint(f\"  Early to Prime: {improvement_early_to_prime:+.2f}%\")\nprint(f\"  Prime to Late: {decline_prime_to_late:+.2f}%\")\n\n# Year-by-year breakdown\nprint(f\"\\n{'Career Year':<15} {'Avg Hits/AB':<15} {'Batting Avg':<15} {'Players':<10}\")\nprint(\"-\" * 55)\nfor year in range(1, 16):\n    year_data = batting_regular[batting_regular['career_year'] == year]\n    avg_hits_ab = year_data['hits_per_ab'].mean()\n    n_players = len(year_data)\n    print(f\"Year {year:<10} {avg_hits_ab:.4f} ({avg_hits_ab*100:>5.2f}%)  {n_players:<10}\")\n\nprint(\"=\"*70)"
  },
  {
   "cell_type": "markdown",
   "metadata": {},
   "source": "## Key Findings: MLB Analysis\n\nBased on our analysis of 165 players with exactly 15-year MLB careers:\n\n### Performance Patterns:\n\n1. **Peak Performance Window**: Players reach their statistical peak around career years 7-8, maintaining high performance through year 10\n\n2. **Career Trajectory**:\n   - **Early Years (1-3)**: Players show lower performance as they adjust to MLB level\n   - **Prime Years (4-10)**: Performance peaks and plateaus, showing consistent elite performance\n   - **Late Career (11-15)**: Gradual decline in performance, accelerating in final years\n\n3. **Key Observations**:\n   - Career year 1 shows high variability (players adjusting to MLB)\n   - Years 4-10 show remarkable consistency \n   - Steep decline in final career year (15) likely due to reduced playing time\n   - Peak performance occurs in years 7-8, not the earliest years\n\n### Implications:\n\n- MLB players with long careers (15 years) typically need 3-4 years to reach their prime\n- Prime performance window lasts approximately 7 years (years 4-10)\n- Performance remains relatively stable during prime years\n- Late career decline is gradual until the final season\n\n## Next Steps\n\nThis analysis provides a baseline for MLB. Next we'll:\n- Compare with NFL, NBA, and NHL career trajectories\n- Analyze different performance metrics (HR, RBI, etc.)\n- Investigate factors influencing prime duration\n- Cross-sport comparison of prime performance timing"
  },
  {
   "cell_type": "code",
   "execution_count": null,
   "metadata": {},
   "outputs": [],
   "source": "# Save processed data for future analysis\nimport os\n\n# Create data directory if it doesn't exist\nif not os.path.exists('data'):\n    os.makedirs('data')\n    print(\"Created data directory\")\n\n# Save the processed DataFrame\nbatting_regular.to_csv('data/batting_15year_careers.csv', index=False)\nprint(\"Data saved to 'data/batting_15year_careers.csv'\")\n\n# Save summary statistics\nsummary_stats = batting_regular.groupby('career_year').agg({\n    'hits_per_ab': ['mean', 'std', 'min', 'max', 'count'],\n    'AB': 'sum',\n    'H': 'sum'\n}).round(4)\nsummary_stats.to_csv('data/batting_15year_summary_stats.csv')\nprint(\"Summary statistics saved to 'data/batting_15year_summary_stats.csv'\")\n\n# Display final summary\nprint(\"\\n\" + \"=\"*70)\nprint(\"SPORTS PRIMES ANALYSIS - MLB COMPONENT COMPLETE\")\nprint(\"=\"*70)\nprint(f\"✓ Analyzed {batting_regular['playerID'].nunique()} players\")\nprint(f\"✓ Total of {len(batting_regular)} player-seasons\")\nprint(f\"✓ Career range: Years 1-15\")\nprint(f\"✓ Performance metric: Hits per At-Bat\")\nprint(f\"✓ Peak performance identified: Career Year {batting_regular.groupby('career_year')['hits_per_ab'].mean().idxmax()}\")\nprint(f\"✓ Comprehensive visualizations generated\")\nprint(f\"✓ Data and statistics saved for cross-sport comparison\")\nprint(\"\\nReady for expansion to NFL, NBA, and NHL analysis!\")\nprint(\"=\"*70)"
  }
 ],
 "metadata": {
  "kernelspec": {
   "display_name": "Python 3",
   "language": "python",
   "name": "python3"
  },
  "language_info": {
   "codemirror_mode": {
    "name": "ipython",
    "version": 3
   },
   "file_extension": ".py",
   "mimetype": "text/x-python",
   "name": "python",
   "nbconvert_exporter": "python",
   "pygments_lexer": "ipython3",
   "version": "3.8.5"
  }
 },
 "nbformat": 4,
 "nbformat_minor": 4
}